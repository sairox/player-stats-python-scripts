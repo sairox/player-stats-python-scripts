{
 "cells": [
  {
   "cell_type": "code",
   "execution_count": 1,
   "id": "17bf53a9",
   "metadata": {},
   "outputs": [],
   "source": [
    "import csv"
   ]
  },
  {
   "cell_type": "code",
   "execution_count": 58,
   "id": "8f8dc62e",
   "metadata": {},
   "outputs": [
    {
     "name": "stdout",
     "output_type": "stream",
     "text": [
      "Column appended successfully.\n"
     ]
    }
   ],
   "source": [
    "import csv\n",
    "\n",
    "input_file = 'C:/Users/saivi/Desktop/Projects/Players_Stats/rb_stats/taylor_stats.csv'\n",
    "output_file = 'C:/Users/saivi/Desktop/Projects/Players_Stats/rb_stats/New_Stats/taylor.csv'\n",
    "name = 'Jonathan Taylor'\n",
    "\n",
    "with open(input_file, 'r') as csvinput, open(output_file, 'w', newline='') as csvoutput:\n",
    "    reader = csv.reader(csvinput)\n",
    "    writer = csv.writer(csvoutput)\n",
    "\n",
    "    # Append the column name to the first row\n",
    "    header_row = next(reader)\n",
    "    writer.writerow([''] + header_row[1:])\n",
    "    writer.writerow(['Name'] + next(reader))\n",
    "\n",
    "    # Append the name to each subsequent row\n",
    "    for row in reader:\n",
    "        row.insert(0, name)\n",
    "        writer.writerow(row)\n",
    "\n",
    "print(\"Column appended successfully.\")"
   ]
  },
  {
   "cell_type": "code",
   "execution_count": null,
   "id": "6be7178c",
   "metadata": {},
   "outputs": [],
   "source": []
  }
 ],
 "metadata": {
  "kernelspec": {
   "display_name": "Python 3 (ipykernel)",
   "language": "python",
   "name": "python3"
  },
  "language_info": {
   "codemirror_mode": {
    "name": "ipython",
    "version": 3
   },
   "file_extension": ".py",
   "mimetype": "text/x-python",
   "name": "python",
   "nbconvert_exporter": "python",
   "pygments_lexer": "ipython3",
   "version": "3.10.9"
  }
 },
 "nbformat": 4,
 "nbformat_minor": 5
}
